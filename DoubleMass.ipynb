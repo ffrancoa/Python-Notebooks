{
 "metadata": {
  "language_info": {
   "codemirror_mode": {
    "name": "ipython",
    "version": 3
   },
   "file_extension": ".py",
   "mimetype": "text/x-python",
   "name": "python",
   "nbconvert_exporter": "python",
   "pygments_lexer": "ipython3",
   "version": "3.7.9-final"
  },
  "orig_nbformat": 2,
  "kernelspec": {
   "name": "python3",
   "display_name": "Python 3.7.9 64-bit",
   "metadata": {
    "interpreter": {
     "hash": "7336745bb965ec3b7b8a3386cfd8c673b6ad9e71d9d75738a884d086ef3008d9"
    }
   }
  }
 },
 "nbformat": 4,
 "nbformat_minor": 2,
 "cells": [
  {
   "source": [
    "# Double Mass Analysis"
   ],
   "cell_type": "markdown",
   "metadata": {}
  },
  {
   "source": [
    "## Load Libraries"
   ],
   "cell_type": "markdown",
   "metadata": {}
  },
  {
   "cell_type": "code",
   "execution_count": null,
   "metadata": {},
   "outputs": [],
   "source": [
    "%matplotlib inline\n",
    "import matplotlib.pyplot as plt\n",
    "import pandas as pd"
   ]
  },
  {
   "source": [
    "## Input Filename"
   ],
   "cell_type": "markdown",
   "metadata": {}
  },
  {
   "cell_type": "code",
   "execution_count": null,
   "metadata": {},
   "outputs": [],
   "source": [
    "filename = 'DoubleMass_Data'\n",
    "filename += '.csv'"
   ]
  },
  {
   "source": [
    "## Input Dataframe"
   ],
   "cell_type": "markdown",
   "metadata": {}
  },
  {
   "cell_type": "code",
   "execution_count": null,
   "metadata": {},
   "outputs": [],
   "source": [
    "input_data = pd.read_csv(filename, header = None)\n",
    "input_data.head()"
   ]
  },
  {
   "source": [
    "## Stations Cumulative Measurements"
   ],
   "cell_type": "markdown",
   "metadata": {}
  },
  {
   "cell_type": "code",
   "execution_count": null,
   "metadata": {},
   "outputs": [],
   "source": [
    "cumsum_data = input_data.cumsum()\n",
    "cumsum_data.head()"
   ]
  },
  {
   "source": [
    "## Average Cumulative"
   ],
   "cell_type": "markdown",
   "metadata": {}
  },
  {
   "cell_type": "code",
   "execution_count": null,
   "metadata": {},
   "outputs": [],
   "source": [
    "avg_data = pd.DataFrame()\n",
    "avg_data.loc[:, 0] = input_data.mean(axis = 1)\n",
    "avg_data.loc[:, 1] = avg_data.iloc[:,0].cumsum()\n",
    "avg_data.head()"
   ]
  },
  {
   "source": [
    "## Preparing Canvas"
   ],
   "cell_type": "markdown",
   "metadata": {}
  },
  {
   "cell_type": "code",
   "execution_count": null,
   "metadata": {},
   "outputs": [],
   "source": [
    "plt.rcParams['figure.figsize'] = 12, 9\n",
    "plt.rcParams['font.family'] = 'Franklin Gothic Medium Cond'\n",
    "plt.style.use('ggplot')"
   ]
  },
  {
   "source": [
    "## Plotting"
   ],
   "cell_type": "markdown",
   "metadata": {}
  },
  {
   "cell_type": "code",
   "execution_count": null,
   "metadata": {},
   "outputs": [],
   "source": [
    "plt.suptitle('Double Mass Analysis', fontsize = '48', color = 'gray')\n",
    "plt.xlabel('Total Cumulative Average', fontsize = '30', labelpad = 18)\n",
    "plt.ylabel('Stations Measurements', fontsize = '30', labelpad = 18)\n",
    "\n",
    "ax = plt.axes()\n",
    "\n",
    "for item in (ax.get_xticklabels() + ax.get_yticklabels()):\n",
    "    item.set_fontsize(14)\n",
    "\n",
    "for station_index in range(len(input_data.columns)):\n",
    "        plt.plot(avg_data.loc[:, 1], cumsum_data[station_index], \n",
    "                 label = 'Station ' + str(station_index + 1))\n",
    "                \n",
    "leg = plt.legend(prop = {'size':18}, loc = 'center left', bbox_to_anchor = (1, 0.5))\n",
    "\n",
    "for line, text in zip(leg.get_lines(), leg.get_texts()):\n",
    "    text.set_color(line.get_color())\n",
    "\n",
    "plt.savefig(filename[:-4] + '.png', bbox_inches='tight')\n",
    "plt.show()"
   ]
  }
 ]
}