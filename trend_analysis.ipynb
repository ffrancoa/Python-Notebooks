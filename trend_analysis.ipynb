{
 "metadata": {
  "language_info": {
   "codemirror_mode": {
    "name": "ipython",
    "version": 3
   },
   "file_extension": ".py",
   "mimetype": "text/x-python",
   "name": "python",
   "nbconvert_exporter": "python",
   "pygments_lexer": "ipython3",
   "version": "3.8.3-final"
  },
  "orig_nbformat": 2,
  "kernelspec": {
   "name": "python3",
   "display_name": "Python 3",
   "language": "python"
  }
 },
 "nbformat": 4,
 "nbformat_minor": 2,
 "cells": [
  {
   "source": [
    "# Trend Analysis"
   ],
   "cell_type": "markdown",
   "metadata": {}
  },
  {
   "source": [
    "## Load Workspace"
   ],
   "cell_type": "markdown",
   "metadata": {}
  },
  {
   "cell_type": "code",
   "execution_count": null,
   "metadata": {},
   "outputs": [],
   "source": [
    "from matplotlib import pyplot as plt\n",
    "\n",
    "from scipy import stats as sts\n",
    "\n",
    "import numpy as np\n",
    "\n",
    "import pandas as pd\n",
    "pd.options.display.float_format = '{:,.3f}'.format\n",
    "\n",
    "import os\n",
    "os.makedirs('csv-output', exist_ok = True)\n",
    "os.makedirs('png-output', exist_ok = True)"
   ]
  },
  {
   "source": [
    "## Input Filename"
   ],
   "cell_type": "markdown",
   "metadata": {}
  },
  {
   "cell_type": "code",
   "execution_count": null,
   "metadata": {},
   "outputs": [],
   "source": [
    "filename = 'input'\n",
    "filename += '.csv'"
   ]
  },
  {
   "source": [
    "## Input Dataframe"
   ],
   "cell_type": "markdown",
   "metadata": {}
  },
  {
   "cell_type": "code",
   "execution_count": null,
   "metadata": {},
   "outputs": [],
   "source": [
    "input_data = pd.read_csv(filename, header = None)\n",
    "input_data.head()"
   ]
  },
  {
   "source": [
    "## Data Linear Regression"
   ],
   "cell_type": "markdown",
   "metadata": {}
  },
  {
   "cell_type": "code",
   "execution_count": null,
   "metadata": {},
   "outputs": [],
   "source": [
    "funxy = pd.DataFrame([np.arange(1, len(input_data) + 1), \n",
    "                      input_data.iloc[:, 0]]).transpose()\n",
    "\n",
    "original_reg = sts.linregress(funxy.iloc[:, 0], funxy.iloc[:, 1])\n",
    "\n",
    "reg_line = pd.DataFrame(original_reg.intercept + original_reg.slope * funxy.iloc[:, 0])\n",
    "reg_line.to_csv('csv-output/01_data_linear_reg.csv', header = False, index = False)\n",
    "reg_line.head()"
   ]
  },
  {
   "source": [
    "## Preparing Canvas"
   ],
   "cell_type": "markdown",
   "metadata": {}
  },
  {
   "cell_type": "code",
   "execution_count": null,
   "metadata": {},
   "outputs": [],
   "source": [
    "plt.rcParams['figure.figsize'] = 13, 8\n",
    "plt.rcParams['font.family'] = 'Georgia'\n",
    "plt.rcParams['font.style'] = 'italic'\n",
    "plt.style.use('ggplot')"
   ]
  },
  {
   "source": [
    "## Original Data Trend"
   ],
   "cell_type": "markdown",
   "metadata": {}
  },
  {
   "cell_type": "code",
   "execution_count": null,
   "metadata": {},
   "outputs": [],
   "source": [
    "ax = plt.axes()\n",
    "ax.minorticks_on()\n",
    "ax.set_title('Original Data Trend', fontsize = '42', pad = 20)\n",
    "\n",
    "plt.xlabel('Month', fontsize = '28', labelpad = 18)\n",
    "plt.ylabel('Station Measurement', fontsize = '28', labelpad = 18)\n",
    "\n",
    "for item in (ax.get_xticklabels() + ax.get_yticklabels()):\n",
    "    item.set_fontsize(15)\n",
    "\n",
    "plt.plot(funxy.iloc[:, 0], funxy.iloc[:, 1], marker = 'o', markersize = 4.5,\n",
    "         linestyle = ':', color = '#28BBA5',label = 'Data')\n",
    "\n",
    "plt.plot(funxy.iloc[:, 0], reg_line, linestyle = '--', color = '#D4AA2A',\n",
    "         label = 'Trendline')\n",
    "\n",
    "leg = plt.legend(prop = {'size':16}, loc = 'center left', \n",
    "                 bbox_to_anchor = (1, 0.5))\n",
    "\n",
    "for line, text in zip(leg.get_lines(), leg.get_texts()):\n",
    "    text.set_color(line.get_color())\n",
    "\n",
    "plt.tight_layout()\n",
    "plt.savefig('png-output/01_original_data_trend.png', bbox_inches = 'tight')\n",
    "plt.show()"
   ]
  },
  {
   "source": [
    "## Trend in Mean"
   ],
   "cell_type": "markdown",
   "metadata": {}
  },
  {
   "cell_type": "code",
   "execution_count": null,
   "metadata": {},
   "outputs": [],
   "source": [
    "Am = original_reg.intercept\n",
    "Bm = original_reg.slope\n",
    "r = original_reg.rvalue\n",
    "\n",
    "tc = r * np.sqrt(len(input_data) - 2)\n",
    "tc /= np.sqrt(1 - r ** 2)\n",
    "\n",
    "tt = sts.t.ppf(.975, len(input_data) - 2)\n",
    "\n",
    "tm_results = pd.DataFrame([[Am, Bm, r], [tc, tt]]).transpose()\n",
    "tm_results.to_csv('csv-output/02_trend_mean_results.csv', header = False, index = False)\n",
    "tm_results.head()\n"
   ]
  },
  {
   "source": [
    "## Removal of Trend in Mean"
   ],
   "cell_type": "markdown",
   "metadata": {}
  },
  {
   "cell_type": "code",
   "execution_count": null,
   "metadata": {},
   "outputs": [],
   "source": [
    "Yt = input_data.sub(reg_line)\n",
    "Yt.to_csv('csv-output/03_Yt.csv', header = False, index = False)\n",
    "Yt.head()"
   ]
  },
  {
   "source": [
    "## Standard Deviation Regression"
   ],
   "cell_type": "markdown",
   "metadata": {}
  },
  {
   "cell_type": "code",
   "execution_count": null,
   "metadata": {},
   "outputs": [],
   "source": [
    "Yt_std_N = len(input_data) // 12\n",
    "Yt_std = pd.DataFrame(range(Yt_std_N))\n",
    "\n",
    "for i in range(Yt_std_N):\n",
    "    Yt_std.iloc[i] = float(Yt.loc[12 * i:11 + 12 * i].std())\n",
    "\n",
    "Yt_std_reg = sts.linregress(np.arange(1, Yt_std_N + 1), Yt_std.transpose())\n",
    "\n",
    "Yt_std.to_csv('csv-output/04_Yt_std_dev.csv', header = False, index = False)\n",
    "Yt_std.head()"
   ]
  },
  {
   "source": [
    "## Trend in Standard Deviation"
   ],
   "cell_type": "markdown",
   "metadata": {}
  },
  {
   "cell_type": "code",
   "execution_count": null,
   "metadata": {},
   "outputs": [],
   "source": [
    "As = Yt_std_reg.intercept\n",
    "Bs = Yt_std_reg.slope\n",
    "r = Yt_std_reg.rvalue\n",
    "\n",
    "tc = r * np.sqrt(len(Yt_std) - 2)\n",
    "tc /= np.sqrt(1 - r ** 2)\n",
    "\n",
    "tt = sts.t.ppf(.975, len(Yt_std) - 2)\n",
    "\n",
    "std_results = pd.DataFrame([[As, Bs, r], [tc, tt]]).transpose()\n",
    "std_results.to_csv('csv-output/05_trend_std_results.csv', header = False, index = False)\n",
    "std_results.head()"
   ]
  },
  {
   "source": [
    "## Standard Deviation Trend"
   ],
   "cell_type": "markdown",
   "metadata": {}
  },
  {
   "cell_type": "code",
   "execution_count": null,
   "metadata": {},
   "outputs": [],
   "source": [
    "stdreg_line = pd.DataFrame(Yt_std_reg.intercept + Yt_std_reg.slope * np.arange(1, Yt_std_N + 1))\n",
    "stdreg_line.to_csv('csv-output/06_std_linear_reg.csv', header = False, index = False)\n",
    "\n",
    "ax = plt.axes()\n",
    "ax.set_title('Standard Deviation Trend', fontsize = '42', pad = 20)\n",
    "\n",
    "plt.xlabel('Year', fontsize = '28', labelpad = 18)\n",
    "plt.ylabel('Standard Deviation', fontsize = '28', labelpad = 18)\n",
    "\n",
    "for item in (ax.get_xticklabels() + ax.get_yticklabels()):\n",
    "    item.set_fontsize(15)\n",
    "\n",
    "plt.plot(np.arange(1, Yt_std_N + 1), Yt_std.iloc[:,0], marker = 'o', markersize = 4.5,\n",
    "         linestyle = '', color = '#712EAD',label = 'Original Data')\n",
    "\n",
    "plt.plot(range(1, Yt_std_N + 1), stdreg_line.iloc[:, 0], linestyle = '--', color = '#71A5CB',\n",
    "         label = 'Trendline')\n",
    "\n",
    "leg = plt.legend(prop = {'size':16}, loc = 'center left', \n",
    "                 bbox_to_anchor = (1, 0.5))\n",
    "\n",
    "for line, text in zip(leg.get_lines(), leg.get_texts()):\n",
    "    text.set_color(line.get_color())\n",
    "\n",
    "plt.tight_layout()\n",
    "plt.savefig('png-output/02_std_dev_trend.png', bbox_inches = 'tight')\n",
    "plt.show()"
   ]
  },
  {
   "source": [
    "## Removal of Trend in Standard Deviation"
   ],
   "cell_type": "markdown",
   "metadata": {}
  },
  {
   "cell_type": "code",
   "execution_count": null,
   "metadata": {},
   "outputs": [],
   "source": [
    "Ts = pd.DataFrame(np.zeros(len(Yt)))\n",
    "\n",
    "for i in range(Yt_std_N):\n",
    "    Ts.iloc[12 * i: 12 + 12 * i] += As + Bs * (i + 1)\n",
    "\n",
    "Zt = Yt.div(Ts)\n",
    "Zt.to_csv('csv-output/07_Zt.csv', header = False, index = False)\n",
    "Zt.head()"
   ]
  },
  {
   "source": [
    "## Data Correction"
   ],
   "cell_type": "markdown",
   "metadata": {}
  },
  {
   "cell_type": "code",
   "execution_count": null,
   "metadata": {},
   "outputs": [],
   "source": [
    "output_data = input_data.mean() + input_data.std() * Zt\n",
    "output_data.to_csv('csv-output/08_data_correction.csv', header = False, index = False)\n",
    "output_data.head()"
   ]
  },
  {
   "source": [
    "## Final Data Trend"
   ],
   "cell_type": "markdown",
   "metadata": {}
  },
  {
   "cell_type": "code",
   "execution_count": null,
   "metadata": {},
   "outputs": [],
   "source": [
    "final_reg = sts.linregress(funxy.iloc[:, 0], output_data.iloc[:,0])\n",
    "final_reg_line = pd.DataFrame(final_reg.intercept + final_reg.slope * funxy.iloc[:, 0])\n",
    "final_reg_line.to_csv('csv-output/09_final_linear_reg.csv', header = False, index = False)\n",
    "\n",
    "ax = plt.axes()\n",
    "ax.minorticks_on()\n",
    "ax.set_title('Data Trend', fontsize = '42', pad = 20)\n",
    "\n",
    "plt.xlabel('Month', fontsize = '28', labelpad = 18)\n",
    "plt.ylabel('Station Measurement', fontsize = '28', labelpad = 18)\n",
    "\n",
    "ax = plt.axes()\n",
    "ax.minorticks_on()\n",
    "ax.set_title('Final Data Trend', fontsize = '42', pad = 20)\n",
    "\n",
    "plt.ylabel('Corrected Measurement', fontsize = '28', labelpad = 18)\n",
    "plt.xlabel('Month', fontsize = '28', labelpad = 18)\n",
    "\n",
    "for item in (ax.get_xticklabels() + ax.get_yticklabels()):\n",
    "    item.set_fontsize(15)\n",
    "\n",
    "plt.plot(funxy.iloc[:, 0], output_data, marker = 'o', markersize = 4.5,\n",
    "         linestyle = ':', color = '#28BBA5', label = 'Final Data')\n",
    "\n",
    "plt.plot(funxy.iloc[:, 0], final_reg_line, linestyle = '--', color = '#D4AA2A',\n",
    "         label = 'Trendline')\n",
    "\n",
    "leg = plt.legend(prop = {'size':16}, loc = 'center left', \n",
    "                 bbox_to_anchor = (1, 0.5))\n",
    "\n",
    "for line, text in zip(leg.get_lines(), leg.get_texts()):\n",
    "    text.set_color(line.get_color())\n",
    "\n",
    "plt.tight_layout()\n",
    "plt.savefig('png-output/03_final_data_trend.png', bbox_inches = 'tight')\n",
    "plt.show()"
   ]
  }
 ]
}