{
 "metadata": {
  "language_info": {
   "codemirror_mode": {
    "name": "ipython",
    "version": 3
   },
   "file_extension": ".py",
   "mimetype": "text/x-python",
   "name": "python",
   "nbconvert_exporter": "python",
   "pygments_lexer": "ipython3",
   "version": "3.8.3-final"
  },
  "orig_nbformat": 2,
  "kernelspec": {
   "name": "python3",
   "display_name": "Python 3",
   "language": "python"
  }
 },
 "nbformat": 4,
 "nbformat_minor": 2,
 "cells": [
  {
   "source": [
    "# Jumps Analysis"
   ],
   "cell_type": "markdown",
   "metadata": {}
  },
  {
   "source": [
    "## Load Workspace"
   ],
   "cell_type": "markdown",
   "metadata": {}
  },
  {
   "cell_type": "code",
   "execution_count": null,
   "metadata": {},
   "outputs": [],
   "source": [
    "from matplotlib import pyplot as plt\n",
    "\n",
    "from scipy import stats as st\n",
    "\n",
    "import numpy as np\n",
    "\n",
    "import pandas as pd\n",
    "pd.options.display.float_format = '{:,.3f}'.format\n",
    "\n",
    "import os\n",
    "os.makedirs('csv-output', exist_ok = True)\n",
    "os.makedirs('png-output', exist_ok = True)"
   ]
  },
  {
   "source": [
    "## Input Filename"
   ],
   "cell_type": "markdown",
   "metadata": {}
  },
  {
   "cell_type": "code",
   "execution_count": null,
   "metadata": {},
   "outputs": [],
   "source": [
    "filename = 'input'\n",
    "filename += '.csv'"
   ]
  },
  {
   "source": [
    "## Input Dataframe"
   ],
   "cell_type": "markdown",
   "metadata": {}
  },
  {
   "cell_type": "code",
   "execution_count": null,
   "metadata": {},
   "outputs": [],
   "source": [
    "input_data = pd.read_csv(filename, header = None)\n",
    "input_data.head()"
   ]
  },
  {
   "source": [
    "## Preparing Canvas"
   ],
   "cell_type": "markdown",
   "metadata": {}
  },
  {
   "cell_type": "code",
   "execution_count": null,
   "metadata": {},
   "outputs": [],
   "source": [
    "plt.rcParams['figure.figsize'] = 13, 8\n",
    "plt.rcParams['font.family'] = 'Georgia'\n",
    "plt.rcParams['font.style'] = 'italic'\n",
    "plt.style.use('ggplot')"
   ]
  },
  {
   "source": [
    "## Visual Analysis"
   ],
   "cell_type": "markdown",
   "metadata": {}
  },
  {
   "source": [
    "vsy1 = input_data.iloc[:, 0].dropna()\n",
    "vsy2 = input_data.iloc[:, 1].dropna()\n",
    "\n",
    "vsx1 = [*range(1, len(vsy1) + 1)]\n",
    "vsx2 = [*range(len(vsy1), len(vsy1) + len(vsy2))]\n",
    "\n",
    "tly1 = np.poly1d(np.polyfit(vsx1, vsy1, 1))\n",
    "tly2 = np.poly1d(np.polyfit(vsx2, vsy2, 1))\n",
    "\n",
    "ax = plt.axes()\n",
    "ax.minorticks_on()\n",
    "ax.set_title('Visual Analysis', fontsize = '42', pad = 20)\n",
    "\n",
    "plt.ylabel('Station Measurement', fontsize = '28', labelpad = 18)\n",
    "plt.xlabel('Month / Year', fontsize = '28', labelpad = 18)\n",
    "\n",
    "for item in (ax.get_xticklabels() + ax.get_yticklabels()):\n",
    "    item.set_fontsize(15)\n",
    "\n",
    "plt.plot(vsx1, vsy1, label = '1$^{st}$ Series')\n",
    "plt.plot(vsx1, tly1(vsx1), linestyle = '--', color = '#E46F5D')\n",
    "\n",
    "plt.plot(vsx2, vsy2, label = '2$^{nd}$ Series')\n",
    "plt.plot(vsx2, tly2(vsx2), linestyle = '--', color = '#7D8DC6')\n",
    "\n",
    "leg = plt.legend(prop = {'size':16}, loc = 'center left', \n",
    "                 bbox_to_anchor = (1, 0.5))\n",
    "\n",
    "for line, text in zip(leg.get_lines(), leg.get_texts()):\n",
    "    text.set_color(line.get_color())\n",
    "\n",
    "plt.tight_layout()\n",
    "plt.savefig('png-output/01_visual_analysis.png', bbox_inches = 'tight')\n",
    "plt.show()"
   ],
   "cell_type": "code",
   "metadata": {},
   "execution_count": null,
   "outputs": [],
   "tags": [
        "remove-input"
    ]
  },
  {
   "source": [
    "## Statistic Parameters"
   ],
   "cell_type": "markdown",
   "metadata": {}
  },
  {
   "cell_type": "code",
   "execution_count": null,
   "metadata": {},
   "outputs": [],
   "source": [
    "params = pd.DataFrame([input_data.count(), input_data.mean(), \n",
    "                       input_data.std()])\n",
    "params.to_csv('csv-output/01_statistic_parameters.csv', header = False, index = False)\n",
    "params.head()"
   ]
  },
  {
   "source": [
    "## Parameters Error Bar"
   ],
   "cell_type": "markdown",
   "metadata": {}
  },
  {
   "cell_type": "code",
   "execution_count": null,
   "metadata": {},
   "outputs": [],
   "source": [
    "ax = plt.axes()\n",
    "ax.set_title('Parameters Error Bar', fontsize = '42', pad = 20)\n",
    "\n",
    "plt.xlabel('Analysis Serie', fontsize = '28', labelpad = 18)\n",
    "plt.ylabel('Mean / Std. Deviation', fontsize = '28', labelpad = 18)\n",
    "\n",
    "plt.errorbar(['A', 'B'], params.loc[1], params.loc[2], linestyle = 'None', \n",
    "             marker = 'o', color = '#D84147',ecolor = '#6696CB', capsize = 18)\n",
    "\n",
    "for item in (ax.get_xticklabels() + ax.get_yticklabels()):\n",
    "    item.set_fontsize(15)\n",
    "\n",
    "plt.tight_layout()\n",
    "plt.savefig('png-output/02_parameters_error_bar.png', bbox_inches = 'tight')\n",
    "plt.show()"
   ]
  },
  {
   "source": [
    "## Consistency of the Mean"
   ],
   "cell_type": "markdown",
   "metadata": {}
  },
  {
   "cell_type": "code",
   "execution_count": null,
   "metadata": {},
   "outputs": [],
   "source": [
    "Sp = ((params.loc[0] - 1) * params.loc[2].pow(2)).sum()\n",
    "Sp /= params.loc[0].sum() - 2\n",
    "Sp **= (1 / 2)\n",
    "\n",
    "Sd = (1 / params.loc[0]).sum() ** (1 / 2)\n",
    "Sd *= Sp\n",
    "\n",
    "tc = params.iloc[:, 0] - params.iloc[:, 1]\n",
    "tc = abs(tc)[1] / Sd\n",
    "\n",
    "tt = st.t.ppf(.975, params.loc[0].sum() - 2)\n",
    "\n",
    "cst_mean = pd.DataFrame([[Sp, Sd], [tc, tt]]).transpose()\n",
    "cst_mean.to_csv('csv-output/02_consistency_mean.csv', header = False, index = False)\n",
    "cst_mean.head()"
   ]
  },
  {
   "source": [
    "## Consistency of the Std. Deviation"
   ],
   "cell_type": "markdown",
   "metadata": {}
  },
  {
   "cell_type": "code",
   "execution_count": null,
   "metadata": {},
   "outputs": [],
   "source": [
    "if params.iloc[2, 0] > params.iloc[2, 1]:\n",
    "    Fc = (params.iloc[2, 0] / params.iloc[2, 1]) ** 2\n",
    "    Ft = st.f.ppf(0.95, params.iloc[0, 0], params.iloc[0, 1])\n",
    "else:\n",
    "    Fc = (params.iloc[2, 1] / params.iloc[2, 0]) ** 2\n",
    "    Ft = st.f.ppf(0.95, params.iloc[0, 1], params.iloc[0, 0])\n",
    "\n",
    "cst_stdev = pd.DataFrame([Fc, Ft])\n",
    "cst_stdev.to_csv('csv-output/03_consistency_std_dev.csv', header = False, index = False)\n",
    "cst_stdev.head()"
   ]
  },
  {
   "source": [
    "## Data Correction"
   ],
   "cell_type": "markdown",
   "metadata": {}
  },
  {
   "cell_type": "code",
   "execution_count": null,
   "metadata": {},
   "outputs": [],
   "source": [
    "cnss_id = 2 # Consistent Series: 1st or 2nd.\n",
    "\n",
    "if cnss_id == 1:\n",
    "    csy2 = (vsy2 - params.iloc[1, 1]) / params.iloc[2, 1]\n",
    "    csy2 = csy2 * params.iloc[2, 0] + params.iloc[1, 0]\n",
    "    csy1 = vsy1\n",
    "else:\n",
    "    csy1 = (vsy1 - params.iloc[1, 0]) / params.iloc[2, 0]\n",
    "    csy1 = csy1 * params.iloc[2, 1] + params.iloc[1, 1]\n",
    "    csy2 = vsy2\n",
    "\n",
    "output_data = pd.DataFrame([csy1, csy2]).transpose()\n",
    "output_data.to_csv('csv-output/04_data_correction.csv', header = False, index = False)\n",
    "output_data.head()"
   ]
  },
  {
   "source": [
    "## Visual Verification"
   ],
   "cell_type": "markdown",
   "metadata": {}
  },
  {
   "cell_type": "code",
   "execution_count": null,
   "metadata": {},
   "outputs": [],
   "source": [
    "py = csy1.to_list() + csy2.to_list()\n",
    "px = [*range(1, len(py) + 1)]\n",
    "\n",
    "tly = np.poly1d(np.polyfit(px, py, 1))\n",
    "\n",
    "ax = plt.axes()\n",
    "ax.minorticks_on()\n",
    "ax.set_title('Visual Verification', fontsize = '42', pad = 20)\n",
    "\n",
    "plt.ylabel('Corrected Measurement', fontsize = '28', labelpad = 18)\n",
    "plt.xlabel('Month / Year, fontsize = '28', labelpad = 18)\n",
    "\n",
    "for item in (ax.get_xticklabels() + ax.get_yticklabels()):\n",
    "    item.set_fontsize(15)\n",
    "\n",
    "plt.plot(px, py, color = '#3CCDA7')\n",
    "plt.plot(px, tly(px), linestyle = '--', color = '#3DDBB1')\n",
    "\n",
    "plt.tight_layout()\n",
    "plt.savefig('png-output/03_visual_verification.png', bbox_inches = 'tight')\n",
    "plt.show()"
   ]
  }
 ]
}
